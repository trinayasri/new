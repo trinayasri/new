{
  "nbformat": 4,
  "nbformat_minor": 0,
  "metadata": {
    "colab": {
      "provenance": [],
      "authorship_tag": "ABX9TyP/mcItlqmkWiC6PGepFM6L",
      "include_colab_link": true
    },
    "kernelspec": {
      "name": "python3",
      "display_name": "Python 3"
    },
    "language_info": {
      "name": "python"
    }
  },
  "cells": [
    {
      "cell_type": "markdown",
      "metadata": {
        "id": "view-in-github",
        "colab_type": "text"
      },
      "source": [
        "<a href=\"https://colab.research.google.com/github/trinayasri/new/blob/main/NLP_find_%2Cmathmatical_expressions_in_text.ipynb\" target=\"_parent\"><img src=\"https://colab.research.google.com/assets/colab-badge.svg\" alt=\"Open In Colab\"/></a>"
      ]
    },
    {
      "cell_type": "code",
      "execution_count": null,
      "metadata": {
        "id": "zSR4X7mL4yek"
      },
      "outputs": [],
      "source": [
        "import re\n",
        "\n",
        "text = \"In physics force is calculated using F=m*a and energy is given by E=m*c^2\"\n",
        "\n",
        "pattern = r'[\\w\\d\\*\\+\\-\\/\\^\\=]+'\n",
        "expressions = re.findall(pattern, text)\n",
        "math_expressions = [exp for exp in expressions if any(op in exp for op in \"=+-*/^\")]\n",
        "\n",
        "print(\"OUTPUT:\\n\")\n",
        "if math_expressions:\n",
        "    print(\"Mathematical expressions found:\")\n",
        "    for exp in math_expressions:\n",
        "        print(exp)\n",
        "else:\n",
        "    print(\"No math expressions found.\")"
      ]
    }
  ]
}