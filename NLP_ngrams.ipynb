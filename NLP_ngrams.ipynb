{
  "nbformat": 4,
  "nbformat_minor": 0,
  "metadata": {
    "colab": {
      "provenance": [],
      "authorship_tag": "ABX9TyMwnQwk1hmhO2GMsDiWQ8hQ",
      "include_colab_link": true
    },
    "kernelspec": {
      "name": "python3",
      "display_name": "Python 3"
    },
    "language_info": {
      "name": "python"
    }
  },
  "cells": [
    {
      "cell_type": "markdown",
      "metadata": {
        "id": "view-in-github",
        "colab_type": "text"
      },
      "source": [
        "<a href=\"https://colab.research.google.com/github/trinayasri/new/blob/main/NLP_ngrams.ipynb\" target=\"_parent\"><img src=\"https://colab.research.google.com/assets/colab-badge.svg\" alt=\"Open In Colab\"/></a>"
      ]
    },
    {
      "cell_type": "code",
      "execution_count": null,
      "metadata": {
        "colab": {
          "base_uri": "https://localhost:8080/"
        },
        "id": "8ElJTICVwXf3",
        "outputId": "74f0cab9-a4f7-4957-a6c4-69e6be8595c5"
      },
      "outputs": [
        {
          "output_type": "stream",
          "name": "stdout",
          "text": [
            "('iam',)\n",
            "('trinaya',)\n",
            "('and',)\n",
            "('iam',)\n",
            "('studying',)\n",
            "('b-tech',)\n",
            "('3rd',)\n",
            "('year',)\n",
            "('in',)\n",
            "('surampalem',)\n",
            "('aditya',)\n",
            "('university',)\n",
            "('which',)\n",
            "('is',)\n",
            "('located',)\n",
            "('in',)\n",
            "('Andhrapradesh',)\n",
            "('iam', 'trinaya')\n",
            "('trinaya', 'and')\n",
            "('and', 'iam')\n",
            "('iam', 'studying')\n",
            "('studying', 'b-tech')\n",
            "('b-tech', '3rd')\n",
            "('3rd', 'year')\n",
            "('year', 'in')\n",
            "('in', 'surampalem')\n",
            "('surampalem', 'aditya')\n",
            "('aditya', 'university')\n",
            "('university', 'which')\n",
            "('which', 'is')\n",
            "('is', 'located')\n",
            "('located', 'in')\n",
            "('in', 'Andhrapradesh')\n",
            "('iam', 'trinaya', 'and')\n",
            "('trinaya', 'and', 'iam')\n",
            "('and', 'iam', 'studying')\n",
            "('iam', 'studying', 'b-tech')\n",
            "('studying', 'b-tech', '3rd')\n",
            "('b-tech', '3rd', 'year')\n",
            "('3rd', 'year', 'in')\n",
            "('year', 'in', 'surampalem')\n",
            "('in', 'surampalem', 'aditya')\n",
            "('surampalem', 'aditya', 'university')\n",
            "('aditya', 'university', 'which')\n",
            "('university', 'which', 'is')\n",
            "('which', 'is', 'located')\n",
            "('is', 'located', 'in')\n",
            "('located', 'in', 'Andhrapradesh')\n",
            "('iam', 'trinaya', 'and', 'iam')\n",
            "('trinaya', 'and', 'iam', 'studying')\n",
            "('and', 'iam', 'studying', 'b-tech')\n",
            "('iam', 'studying', 'b-tech', '3rd')\n",
            "('studying', 'b-tech', '3rd', 'year')\n",
            "('b-tech', '3rd', 'year', 'in')\n",
            "('3rd', 'year', 'in', 'surampalem')\n",
            "('year', 'in', 'surampalem', 'aditya')\n",
            "('in', 'surampalem', 'aditya', 'university')\n",
            "('surampalem', 'aditya', 'university', 'which')\n",
            "('aditya', 'university', 'which', 'is')\n",
            "('university', 'which', 'is', 'located')\n",
            "('which', 'is', 'located', 'in')\n",
            "('is', 'located', 'in', 'Andhrapradesh')\n"
          ]
        }
      ],
      "source": [
        "from nltk.util import ngrams\n",
        "text=\"iam trinaya and iam studying b-tech 3rd year in surampalem aditya university which is located in Andhrapradesh\"\n",
        "words=text.split()\n",
        "unigrams=ngrams(words,1)\n",
        "bigrams=ngrams(words,2)\n",
        "trigrams=ngrams(words,3)\n",
        "quadgrams=ngrams(words,4)\n",
        "for result in[unigrams,bigrams,trigrams,quadgrams]:\n",
        "  for grams in result:\n",
        "    print(grams)"
      ]
    },
    {
      "cell_type": "code",
      "source": [
        "def get_unigrams(words):\n",
        "    return[(words[i],) for i in range(len(words))]\n",
        "def get_bigrams(words):\n",
        "    return[(words[i],words[i+1],) for i in range (len(words)-1)]\n",
        "def get_trigrams(words):\n",
        "    return[(words[i],words[i+1],words[i+2],) for i in range (len(words)-2)]\n",
        "def get_quadgrams(words):\n",
        "  return[(words[i],words[i+1],words[i+2],words[i+3],) for i in range (len(words)-3)]\n",
        "text=\"iam trinaya. and iam studyind in aditya engineering collage at aditya university at surampalem.\"\n",
        "words=text.split()\n",
        "unigrams=get_unigrams(words)\n",
        "bigrams=get_bigrams(words)\n",
        "trigrams=get_trigrams(words)\n",
        "quadgrams=get_quadgrams(words)\n",
        "print(\"\\nunigrams:\")\n",
        "print(unigrams)\n",
        "print(\"\\nbigrams:\")\n",
        "print(bigrams)\n",
        "print(\"\\ntrigrams:\")\n",
        "print(trigrams)\n",
        "print(\"\\nQuadgrams:\")\n",
        "print(quadgrams)"
      ],
      "metadata": {
        "colab": {
          "base_uri": "https://localhost:8080/"
        },
        "id": "xgr9_V1a4_a0",
        "outputId": "179277cd-3d33-4f66-c00e-dbe086cee356"
      },
      "execution_count": null,
      "outputs": [
        {
          "output_type": "stream",
          "name": "stdout",
          "text": [
            "\n",
            "unigrams:\n",
            "[('iam',), ('trinaya.',), ('and',), ('iam',), ('studyind',), ('in',), ('aditya',), ('engineering',), ('collage',), ('at',), ('aditya',), ('university',), ('at',), ('surampalem.',)]\n",
            "\n",
            "bigrams:\n",
            "[('iam', 'trinaya.'), ('trinaya.', 'and'), ('and', 'iam'), ('iam', 'studyind'), ('studyind', 'in'), ('in', 'aditya'), ('aditya', 'engineering'), ('engineering', 'collage'), ('collage', 'at'), ('at', 'aditya'), ('aditya', 'university'), ('university', 'at'), ('at', 'surampalem.')]\n",
            "\n",
            "trigrams:\n",
            "[('iam', 'trinaya.', 'and'), ('trinaya.', 'and', 'iam'), ('and', 'iam', 'studyind'), ('iam', 'studyind', 'in'), ('studyind', 'in', 'aditya'), ('in', 'aditya', 'engineering'), ('aditya', 'engineering', 'collage'), ('engineering', 'collage', 'at'), ('collage', 'at', 'aditya'), ('at', 'aditya', 'university'), ('aditya', 'university', 'at'), ('university', 'at', 'surampalem.')]\n",
            "\n",
            "Quadgrams:\n",
            "[('iam', 'trinaya.', 'and', 'iam'), ('trinaya.', 'and', 'iam', 'studyind'), ('and', 'iam', 'studyind', 'in'), ('iam', 'studyind', 'in', 'aditya'), ('studyind', 'in', 'aditya', 'engineering'), ('in', 'aditya', 'engineering', 'collage'), ('aditya', 'engineering', 'collage', 'at'), ('engineering', 'collage', 'at', 'aditya'), ('collage', 'at', 'aditya', 'university'), ('at', 'aditya', 'university', 'at'), ('aditya', 'university', 'at', 'surampalem.')]\n"
          ]
        }
      ]
    }
  ]
}