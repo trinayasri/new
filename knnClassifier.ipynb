{
  "nbformat": 4,
  "nbformat_minor": 0,
  "metadata": {
    "colab": {
      "provenance": [],
      "authorship_tag": "ABX9TyOpqp12sdf75Uz97aeHmrSB",
      "include_colab_link": true
    },
    "kernelspec": {
      "name": "python3",
      "display_name": "Python 3"
    },
    "language_info": {
      "name": "python"
    }
  },
  "cells": [
    {
      "cell_type": "markdown",
      "metadata": {
        "id": "view-in-github",
        "colab_type": "text"
      },
      "source": [
        "<a href=\"https://colab.research.google.com/github/trinayasri/new/blob/main/knnClassifier.ipynb\" target=\"_parent\"><img src=\"https://colab.research.google.com/assets/colab-badge.svg\" alt=\"Open In Colab\"/></a>"
      ]
    },
    {
      "cell_type": "code",
      "execution_count": null,
      "metadata": {
        "colab": {
          "base_uri": "https://localhost:8080/"
        },
        "id": "nItBhltv7_JY",
        "outputId": "ac011b7c-2b32-4e87-cd21-1125298f4d34"
      },
      "outputs": [
        {
          "output_type": "stream",
          "name": "stdout",
          "text": [
            "   age  sex  cp  trestbps  chol  fbs  restecg  thalach  exang  oldpeak  slope  \\\n",
            "0   70    1   3       130   322    0        2      109      0      2.4      1   \n",
            "1   67    0   2       115   564    0        2      160      0      1.6      1   \n",
            "2   57    1   1       124   261    0        0      141      0      0.3      0   \n",
            "3   64    1   3       128   263    0        0      105      1      0.2      1   \n",
            "4   74    0   1       120   269    0        2      121      1      0.2      0   \n",
            "\n",
            "   ca  thal  target  \n",
            "0   3     1       1  \n",
            "1   0     3       0  \n",
            "2   0     3       1  \n",
            "3   1     3       0  \n",
            "4   1     1       0  \n",
            "<class 'pandas.core.frame.DataFrame'>\n",
            "RangeIndex: 270 entries, 0 to 269\n",
            "Data columns (total 14 columns):\n",
            " #   Column    Non-Null Count  Dtype  \n",
            "---  ------    --------------  -----  \n",
            " 0   age       270 non-null    int64  \n",
            " 1   sex       270 non-null    int64  \n",
            " 2   cp        270 non-null    int64  \n",
            " 3   trestbps  270 non-null    int64  \n",
            " 4   chol      270 non-null    int64  \n",
            " 5   fbs       270 non-null    int64  \n",
            " 6   restecg   270 non-null    int64  \n",
            " 7   thalach   270 non-null    int64  \n",
            " 8   exang     270 non-null    int64  \n",
            " 9   oldpeak   270 non-null    float64\n",
            " 10  slope     270 non-null    int64  \n",
            " 11  ca        270 non-null    int64  \n",
            " 12  thal      270 non-null    int64  \n",
            " 13  target    270 non-null    int64  \n",
            "dtypes: float64(1), int64(13)\n",
            "memory usage: 29.7 KB\n",
            "None\n",
            "Accuracy: 0.77\n"
          ]
        }
      ],
      "source": [
        "import numpy as np\n",
        "import pandas as pd\n",
        "from sklearn.model_selection import train_test_split\n",
        "from sklearn.ensemble import RandomForestClassifier\n",
        "from sklearn.metrics import accuracy_score\n",
        "\n",
        "# Load the dataset\n",
        "data = pd.read_csv(\"Heart_disease_statlog.csv\")\n",
        "print(data.head())\n",
        "print(data.info())\n",
        "\n",
        "# Handle missing values (if any) - your original line was good\n",
        "data = data.dropna()\n",
        "\n",
        "# Separate features (X) and the target variable (y)\n",
        "# Assuming the last column is the target variable (e.g., indicating presence/absence of heart disease)\n",
        "X = data.iloc[:, :-1]\n",
        "y = data.iloc[:, -1]  # Select only the last column as the target\n",
        "\n",
        "# Convert categorical features to numerical using one-hot encoding\n",
        "X = pd.get_dummies(X)\n",
        "\n",
        "# Split the data into training and testing sets\n",
        "X_train, X_test, y_train, y_test = train_test_split(X, y, test_size=0.3, random_state=42) # Reduced test_size\n",
        "\n",
        "# Initialize and train the Random Forest Classifier\n",
        "rf = RandomForestClassifier(n_estimators=100, random_state=42)\n",
        "rf.fit(X_train, y_train)\n",
        "\n",
        "# Make predictions on the test set\n",
        "y_pred = rf.predict(X_test)\n",
        "\n",
        "# Evaluate the model's accuracy\n",
        "accuracy = accuracy_score(y_test, y_pred)\n",
        "print(f\"Accuracy: {accuracy:.2f}\")"
      ]
    },
    {
      "cell_type": "markdown",
      "source": [],
      "metadata": {
        "id": "oixi2okATNb8"
      }
    },
    {
      "cell_type": "code",
      "source": [
        "import numpy as np\n",
        "import pandas as pd\n",
        "from sklearn.model_selection import train_test_split\n",
        "from sklearn.neighbors import KNeighborsClassifier\n",
        "from sklearn.metrics import accuracy_score\n",
        "\n",
        "# Load the dataset\n",
        "data = pd.read_csv(\"Heart_disease_statlog.csv\")\n",
        "print(data.head(10))\n",
        "print(data.isnull().sum())\n",
        "\n",
        "# Separate features (X) and the target variable (y)\n",
        "X = data.iloc[:, :-1]\n",
        "y = data.iloc[:, -1]\n",
        "\n",
        "# Split the data into training and testing sets\n",
        "X_train, X_test, y_train, y_test = train_test_split(X, y, test_size=0.3, random_state=42)\n",
        "\n",
        "# Initialize and train the K-Nearest Neighbors Classifier\n",
        "knn = KNeighborsClassifier(n_neighbors=5)\n",
        "knn.fit(X_train, y_train)  # Corrected: fit method takes features and target\n",
        "\n",
        "# Make predictions on the test set\n",
        "y_pred = knn.predict(X_test)\n",
        "\n",
        "# Evaluate the model's accuracy\n",
        "accuracy = accuracy_score(y_test, y_pred)  # Corrected: using the correct predicted variable\n",
        "print(f\"accuracy: {accuracy:.2f}\")"
      ],
      "metadata": {
        "colab": {
          "base_uri": "https://localhost:8080/"
        },
        "id": "1YTgfCRuTOlX",
        "outputId": "0ccbf599-4076-49bb-a725-6895b02142da"
      },
      "execution_count": null,
      "outputs": [
        {
          "output_type": "stream",
          "name": "stdout",
          "text": [
            "   age  sex  cp  trestbps  chol  fbs  restecg  thalach  exang  oldpeak  slope  \\\n",
            "0   70    1   3       130   322    0        2      109      0      2.4      1   \n",
            "1   67    0   2       115   564    0        2      160      0      1.6      1   \n",
            "2   57    1   1       124   261    0        0      141      0      0.3      0   \n",
            "3   64    1   3       128   263    0        0      105      1      0.2      1   \n",
            "4   74    0   1       120   269    0        2      121      1      0.2      0   \n",
            "5   65    1   3       120   177    0        0      140      0      0.4      0   \n",
            "6   56    1   2       130   256    1        2      142      1      0.6      1   \n",
            "7   59    1   3       110   239    0        2      142      1      1.2      1   \n",
            "8   60    1   3       140   293    0        2      170      0      1.2      1   \n",
            "9   63    0   3       150   407    0        2      154      0      4.0      1   \n",
            "\n",
            "   ca  thal  target  \n",
            "0   3     1       1  \n",
            "1   0     3       0  \n",
            "2   0     3       1  \n",
            "3   1     3       0  \n",
            "4   1     1       0  \n",
            "5   0     3       0  \n",
            "6   1     2       1  \n",
            "7   1     3       1  \n",
            "8   2     3       1  \n",
            "9   3     3       1  \n",
            "age         0\n",
            "sex         0\n",
            "cp          0\n",
            "trestbps    0\n",
            "chol        0\n",
            "fbs         0\n",
            "restecg     0\n",
            "thalach     0\n",
            "exang       0\n",
            "oldpeak     0\n",
            "slope       0\n",
            "ca          0\n",
            "thal        0\n",
            "target      0\n",
            "dtype: int64\n",
            "accuracy: 0.62\n"
          ]
        }
      ]
    }
  ]
}