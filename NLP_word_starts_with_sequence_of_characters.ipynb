{
  "cells": [
    {
      "cell_type": "markdown",
      "metadata": {
        "id": "view-in-github",
        "colab_type": "text"
      },
      "source": [
        "<a href=\"https://colab.research.google.com/github/trinayasri/new/blob/main/NLP_word_starts_with_sequence_of_characters.ipynb\" target=\"_parent\"><img src=\"https://colab.research.google.com/assets/colab-badge.svg\" alt=\"Open In Colab\"/></a>"
      ]
    },
    {
      "cell_type": "code",
      "execution_count": null,
      "metadata": {
        "colab": {
          "base_uri": "https://localhost:8080/"
        },
        "id": "6RxCj-8inMxb",
        "outputId": "6a1d1811-7f07-4340-87b4-5b4c770e06a3"
      },
      "outputs": [
        {
          "output_type": "stream",
          "name": "stderr",
          "text": [
            "<>:1: SyntaxWarning: invalid escape sequence '\\ '\n",
            "<>:1: SyntaxWarning: invalid escape sequence '\\ '\n",
            "/tmp/ipython-input-3123735411.py:1: SyntaxWarning: invalid escape sequence '\\ '\n",
            "  text = \"\"\"Natural language processing is a fasciating area of\\ artifitial intelligence\n"
          ]
        },
        {
          "output_type": "stream",
          "name": "stdout",
          "text": [
            "Enter the starting sequence:a\n",
            "words beginning with 'a':\n",
            "a\n",
            "area\n",
            "artifitial\n",
            "and\n"
          ]
        }
      ],
      "source": [
        "text = \"\"\"Natural language processing is a fasciating area of\\ artifitial intelligence\n",
        "        It deals with how computers understand and generate human language.\"\"\"\n",
        "\n",
        "words = text.split()\n",
        "prefix = input(\"Enter the starting sequence:\").lower()\n",
        "print(f\"words beginning with '{prefix}':\")\n",
        "for word in words:\n",
        "  clean_word = word.strip(\".!?,:\").lower()\n",
        "  if clean_word.startswith(prefix):\n",
        "    print(clean_word)"
      ]
    }
  ],
  "metadata": {
    "colab": {
      "provenance": [],
      "authorship_tag": "ABX9TyPJUrnd23IO7ElGyT29zr5g",
      "include_colab_link": true
    },
    "kernelspec": {
      "display_name": "Python 3",
      "name": "python3"
    },
    "language_info": {
      "name": "python"
    }
  },
  "nbformat": 4,
  "nbformat_minor": 0
}