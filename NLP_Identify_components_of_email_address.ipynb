{
  "nbformat": 4,
  "nbformat_minor": 0,
  "metadata": {
    "colab": {
      "provenance": [],
      "authorship_tag": "ABX9TyN0Aq49BNqTEb92Q/exd9Wz",
      "include_colab_link": true
    },
    "kernelspec": {
      "name": "python3",
      "display_name": "Python 3"
    },
    "language_info": {
      "name": "python"
    }
  },
  "cells": [
    {
      "cell_type": "markdown",
      "metadata": {
        "id": "view-in-github",
        "colab_type": "text"
      },
      "source": [
        "<a href=\"https://colab.research.google.com/github/trinayasri/new/blob/main/NLP_Identify_components_of_email_address.ipynb\" target=\"_parent\"><img src=\"https://colab.research.google.com/assets/colab-badge.svg\" alt=\"Open In Colab\"/></a>"
      ]
    },
    {
      "cell_type": "code",
      "execution_count": null,
      "metadata": {
        "colab": {
          "base_uri": "https://localhost:8080/"
        },
        "id": "GxhJR3ieBdL1",
        "outputId": "1f2ccf1c-b6a4-4424-eebd-fe8240ea78c6"
      },
      "outputs": [
        {
          "output_type": "stream",
          "name": "stdout",
          "text": [
            "Enter an email address: trinayasri@gmail.com\n",
            "\n",
            "Result:\n",
            "Valid email address.\n",
            "\n",
            "Components Breakdown:\n",
            "Local Part (Username): trinayasri\n",
            "Mail Server: gmail\n",
            "Top-level Domain (TLD): com\n",
            "Full Domain: gmail.com\n"
          ]
        }
      ],
      "source": [
        "import re\n",
        "\n",
        "# Function to validate and extract email parts\n",
        "def check_email(email):\n",
        "    pattern = r'^([a-zA-Z0-9._%+-]+)@([a-zA-Z0-9.-]+)\\.([a-zA-Z]{2,})$'\n",
        "    match = re.match(pattern, email)\n",
        "    print(\"Enter an email address:\", email)\n",
        "    print(\"\\nResult:\")\n",
        "    if match:\n",
        "        username, domain, tld = match.groups()\n",
        "        print(\"Valid email address.\\n\")\n",
        "        print(\"Components Breakdown:\")\n",
        "        print(\"Local Part (Username):\", username)\n",
        "        print(\"Mail Server:\", domain)\n",
        "        print(\"Top-level Domain (TLD):\", tld)\n",
        "        print(\"Full Domain:\", f\"{domain}.{tld}\")\n",
        "    else:\n",
        "        print(\"Invalid email address!\")\n",
        "\n",
        "# Example\n",
        "email = \"trinayasri@gmail.com\"\n",
        "check_email(email)"
      ]
    }
  ]
}