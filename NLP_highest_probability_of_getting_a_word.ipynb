{
  "nbformat": 4,
  "nbformat_minor": 0,
  "metadata": {
    "colab": {
      "provenance": [],
      "authorship_tag": "ABX9TyP/RhWJHyEhmW+rg+yPkReS",
      "include_colab_link": true
    },
    "kernelspec": {
      "name": "python3",
      "display_name": "Python 3"
    },
    "language_info": {
      "name": "python"
    }
  },
  "cells": [
    {
      "cell_type": "markdown",
      "metadata": {
        "id": "view-in-github",
        "colab_type": "text"
      },
      "source": [
        "<a href=\"https://colab.research.google.com/github/trinayasri/new/blob/main/NLP_highest_probability_of_getting_a_word.ipynb\" target=\"_parent\"><img src=\"https://colab.research.google.com/assets/colab-badge.svg\" alt=\"Open In Colab\"/></a>"
      ]
    },
    {
      "cell_type": "code",
      "execution_count": null,
      "metadata": {
        "id": "maelNdpRV1W9"
      },
      "outputs": [],
      "source": [
        "from collections import defaultdict\n",
        "def highest_probability(text):\n",
        "  words=text.split()\n",
        "  bigram_count=(defaultdict(lambda:defaultdict(int)))\n",
        "  first_word_counts=defaultdict(int)\n",
        "  for i in range (len(words)-1)\n",
        "    w1=words[i]\n",
        "    w2=words[i+1]\n",
        "    bigram_counts[w1][w2]+=1\n",
        "    first_word_counts[w1]+=1\n",
        "    result={}\n",
        "    for w1 in bigrams_counts[w1]:\n",
        "      prob=bigram_counts[w1][w2]/first_word_counts[w1]\n",
        "      if prob>max_prob:\n",
        "        max_prob=prob\n",
        "        b best_w2=w2\n",
        "        result[w1]=(best_w2.max_prob)\n",
        "        return result\n",
        "    text=\"iam trinaya. iam studying in aditya engineering collage which is located at Andhrapradesh\"\n",
        "    output=highest_probability(text)\n",
        "    for w1,(w2.prob) in output.items():\n",
        "      print(f\"After'{w1}'->'{w2}' with probability {prob:.2f}\")\n"
      ]
    }
  ]
}