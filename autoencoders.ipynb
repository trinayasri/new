{
  "nbformat": 4,
  "nbformat_minor": 0,
  "metadata": {
    "colab": {
      "provenance": [],
      "include_colab_link": true
    },
    "kernelspec": {
      "name": "python3",
      "display_name": "Python 3"
    },
    "language_info": {
      "name": "python"
    }
  },
  "cells": [
    {
      "cell_type": "markdown",
      "metadata": {
        "id": "view-in-github",
        "colab_type": "text"
      },
      "source": [
        "<a href=\"https://colab.research.google.com/github/trinayasri/new/blob/main/autoencoders.ipynb\" target=\"_parent\"><img src=\"https://colab.research.google.com/assets/colab-badge.svg\" alt=\"Open In Colab\"/></a>"
      ]
    },
    {
      "cell_type": "code",
      "execution_count": null,
      "metadata": {
        "id": "Jz94GeYl6u1e"
      },
      "outputs": [],
      "source": [
        "import numpy as np\n",
        "import matplotlib.pyplot as plt\n",
        "from keras.datasets import mnist\n",
        "from keras.layers import Input, Dense, Conv2D, MaxPooling2D, UpSampling2D, Flatten, Reshape, LSTM, RepeatVector, TimeDistributed\n",
        "from keras.models import Model\n",
        "from keras import regularizers\n",
        "from tensorflow.keras import layers\n",
        "from tensorflow.keras import backend as K"
      ]
    },
    {
      "cell_type": "code",
      "source": [
        "(x_train,_),(x_test,_)=mnist.load_data()"
      ],
      "metadata": {
        "id": "agy9WS9E7NI3",
        "outputId": "cc357953-ecd8-48f2-9ca2-348a9da450c6",
        "colab": {
          "base_uri": "https://localhost:8080/"
        }
      },
      "execution_count": null,
      "outputs": [
        {
          "output_type": "stream",
          "name": "stdout",
          "text": [
            "Downloading data from https://storage.googleapis.com/tensorflow/tf-keras-datasets/mnist.npz\n",
            "\u001b[1m11490434/11490434\u001b[0m \u001b[32m━━━━━━━━━━━━━━━━━━━━\u001b[0m\u001b[37m\u001b[0m \u001b[1m0s\u001b[0m 0us/step\n"
          ]
        }
      ]
    },
    {
      "cell_type": "code",
      "source": [
        "x_train=x_train.astype('float32') / 255\n",
        "x_test=x_test.astype('float32')/255"
      ],
      "metadata": {
        "id": "ZVa_UTpb7f6H"
      },
      "execution_count": null,
      "outputs": []
    },
    {
      "cell_type": "code",
      "source": [
        "x_train_fc = x_train.reshape((len(x_train), np.prod(x_train.shape[1:])))\n",
        "x_test_fc = x_test.reshape((len(x_test), np.prod(x_test.shape[1:])))"
      ],
      "metadata": {
        "id": "KznM91XF7-P0"
      },
      "execution_count": null,
      "outputs": []
    },
    {
      "cell_type": "code",
      "source": [
        "input_shape = (28, 28, 1)"
      ],
      "metadata": {
        "id": "SGqw894QP_yB"
      },
      "execution_count": null,
      "outputs": []
    },
    {
      "cell_type": "code",
      "source": [
        "# Define the fully connected autoencoder\n",
        "input_fc = Input(shape=(784,))\n",
        "encoded_fc = Dense(32, activation='relu')(input_fc)\n",
        "decoded_fc = Dense(784, activation='sigmoid')(encoded_fc)\n",
        "autoencoder_fc = Model(input_fc, decoded_fc)"
      ],
      "metadata": {
        "id": "_YediTj7QFYC"
      },
      "execution_count": null,
      "outputs": []
    },
    {
      "cell_type": "code",
      "source": [
        "# Define the sparse autoencoder\n",
        "input_sparse = Input(shape=(784,))\n",
        "encoded_sparse = Dense(32, activation='relu', activity_regularizer=regularizers.l1(10e-5))(input_sparse)\n",
        "decoded_sparse = Dense(784, activation='sigmoid')(encoded_sparse)\n",
        "autoencoder_sparse = Model(input_sparse, decoded_sparse)"
      ],
      "metadata": {
        "id": "elcfVbD8QTMy"
      },
      "execution_count": null,
      "outputs": []
    },
    {
      "cell_type": "code",
      "source": [
        "# Define the recurrent autoencoder\n",
        "input_rnn = Input(shape=(28, 28))\n",
        "encoded_rnn = LSTM(32)(input_rnn)\n",
        "decoded_rnn = RepeatVector(28)(encoded_rnn)\n",
        "decoded_rnn = LSTM(32, return_sequences=True)(decoded_rnn)\n",
        "decoded_rnn = TimeDistributed(Dense(28, activation='sigmoid'))(decoded_rnn)\n",
        "autoencoder_rnn = Model(input_rnn, decoded_rnn)"
      ],
      "metadata": {
        "id": "AMATxaQEQZcI"
      },
      "execution_count": null,
      "outputs": []
    },
    {
      "cell_type": "code",
      "source": [
        "# Define the variational autoencoder\n",
        "input_vae = Input(shape=(784,))\n",
        "encoded_vae = Dense(256, activation='relu')(input_vae)\n",
        "z_mean = Dense(2)(encoded_vae)\n",
        "z_log_var = Dense(2)(encoded_vae)"
      ],
      "metadata": {
        "id": "7tYppXipQhrZ"
      },
      "execution_count": null,
      "outputs": []
    },
    {
      "cell_type": "code",
      "source": [
        "# Define the convolutional autoencoder\n",
        "input_cnn = Input(shape=input_shape)\n",
        "x_cnn = Conv2D(16, (3, 3), activation='relu', padding='same')(input_cnn)\n",
        "x_cnn = MaxPooling2D((2, 2), padding='same')(x_cnn)\n",
        "x_cnn = Conv2D(8, (3, 3), activation='relu', padding='same')(x_cnn)\n",
        "x_cnn = MaxPooling2D((2, 2), padding='same')(x_cnn)\n",
        "x_cnn = Conv2D(8, (3, 3), activation='relu', padding='same')(x_cnn)\n",
        "encoded_cnn = MaxPooling2D((2, 2), padding='same')(x_cnn)\n",
        "x_cnn = Conv2D(8, (3, 3), activation='relu', padding='same')(encoded_cnn)\n",
        "x_cnn = UpSampling2D((2, 2))(x_cnn)\n",
        "x_cnn = Conv2D(8, (3, 3), activation='relu', padding='same')(x_cnn)\n",
        "x_cnn = UpSampling2D((2, 2))(x_cnn)\n",
        "x_cnn = Conv2D(16, (3, 3), activation='relu')(x_cnn)\n",
        "x_cnn = UpSampling2D((2, 2))(x_cnn)\n",
        "decoded_cnn = Conv2D(1, (3, 3), activation='sigmoid', padding='same')(x_cnn)\n",
        "autoencoder_cnn = Model(input_cnn, decoded_cnn)"
      ],
      "metadata": {
        "id": "MqNd2mg3QjgT"
      },
      "execution_count": null,
      "outputs": []
    },
    {
      "cell_type": "code",
      "source": [
        "# Define a sampling function to sample from the learned distribution\n",
        "def sampling(args):\n",
        "    z_mean, z_log_var = args\n",
        "    epsilon = K.random_normal(shape=(K.shape(z_mean)[0], 2))\n",
        "    return z_mean + K.exp(0.5 * z_log_var) * epsilon"
      ],
      "metadata": {
        "id": "3VIaSv1xQoXi"
      },
      "execution_count": null,
      "outputs": []
    },
    {
      "cell_type": "code",
      "source": [
        "z = layers.Lambda(sampling)([z_mean, z_log_var])\n",
        "decoded_vae = Dense(784, activation='sigmoid')(z)\n",
        "autoencoder_vae = Model(input_vae, decoded_vae)"
      ],
      "metadata": {
        "id": "rSSfkTIYQs66"
      },
      "execution_count": null,
      "outputs": []
    },
    {
      "cell_type": "code",
      "source": [
        "# Compile all the autoencoders\n",
        "autoencoder_fc.compile(optimizer='adam', loss='binary_crossentropy')\n",
        "autoencoder_cnn.compile(optimizer='adam', loss='binary_crossentropy')\n",
        "autoencoder_sparse.compile(optimizer='adam', loss='binary_crossentropy')\n",
        "autoencoder_rnn.compile(optimizer='adam', loss='binary_crossentropy')\n",
        "autoencoder_vae.compile(optimizer='adam', loss='binary_crossentropy')\n",
        "import matplotlib.pyplot as plt\n",
        "import numpy as np"
      ],
      "metadata": {
        "id": "DTnkSeCSQv8i"
      },
      "execution_count": null,
      "outputs": []
    },
    {
      "cell_type": "code",
      "source": [
        "# Load an example image\n",
        "x = x_test[0]"
      ],
      "metadata": {
        "id": "LIIlZGb7Qztr"
      },
      "execution_count": null,
      "outputs": []
    },
    {
      "cell_type": "code",
      "source": [
        "# Predict the output using each autoencoder\n",
        "x_fc_pred = autoencoder_fc.predict(np.expand_dims(x.flatten(), axis=0)).reshape(28, 28)\n",
        "x_cnn_pred = autoencoder_cnn.predict(np.expand_dims(x, axis=0)).reshape(28, 28)\n",
        "x_sparse_pred = autoencoder_sparse.predict(np.expand_dims(x.flatten(), axis=0)).reshape(28, 28)\n",
        "x_rnn_pred = autoencoder_rnn.predict(np.expand_dims(x, axis=0)).reshape(28, 28)\n",
        "x_vae_pred = autoencoder_vae.predict(np.expand_dims(x.flatten(), axis=0)).reshape(28, 28)"
      ],
      "metadata": {
        "colab": {
          "base_uri": "https://localhost:8080/"
        },
        "id": "bfgaMYKbQ6OZ",
        "outputId": "68c3733e-170d-436c-e1a2-ae6d025219ad"
      },
      "execution_count": null,
      "outputs": [
        {
          "output_type": "stream",
          "name": "stdout",
          "text": [
            "\u001b[1m1/1\u001b[0m \u001b[32m━━━━━━━━━━━━━━━━━━━━\u001b[0m\u001b[37m\u001b[0m \u001b[1m0s\u001b[0m 110ms/step\n",
            "\u001b[1m1/1\u001b[0m \u001b[32m━━━━━━━━━━━━━━━━━━━━\u001b[0m\u001b[37m\u001b[0m \u001b[1m0s\u001b[0m 354ms/step\n",
            "\u001b[1m1/1\u001b[0m \u001b[32m━━━━━━━━━━━━━━━━━━━━\u001b[0m\u001b[37m\u001b[0m \u001b[1m0s\u001b[0m 60ms/step\n",
            "\u001b[1m1/1\u001b[0m \u001b[32m━━━━━━━━━━━━━━━━━━━━\u001b[0m\u001b[37m\u001b[0m \u001b[1m1s\u001b[0m 576ms/step\n"
          ]
        },
        {
          "output_type": "stream",
          "name": "stderr",
          "text": [
            "WARNING:tensorflow:5 out of the last 5 calls to <function TensorFlowTrainer.make_predict_function.<locals>.one_step_on_data_distributed at 0x782f5295bb00> triggered tf.function retracing. Tracing is expensive and the excessive number of tracings could be due to (1) creating @tf.function repeatedly in a loop, (2) passing tensors with different shapes, (3) passing Python objects instead of tensors. For (1), please define your @tf.function outside of the loop. For (2), @tf.function has reduce_retracing=True option that can avoid unnecessary retracing. For (3), please refer to https://www.tensorflow.org/guide/function#controlling_retracing and https://www.tensorflow.org/api_docs/python/tf/function for  more details.\n"
          ]
        },
        {
          "output_type": "stream",
          "name": "stdout",
          "text": [
            "\u001b[1m1/1\u001b[0m \u001b[32m━━━━━━━━━━━━━━━━━━━━\u001b[0m\u001b[37m\u001b[0m \u001b[1m0s\u001b[0m 84ms/step\n"
          ]
        }
      ]
    },
    {
      "cell_type": "code",
      "source": [
        "# Plot the original image and the predicted outputs\n",
        "fig, axs = plt.subplots(1, 6, figsize=(15, 3))\n",
        "axs[0].imshow(x, cmap='gray')\n",
        "axs[0].set_title('Original')\n",
        "axs[1].imshow(x_fc_pred, cmap='gray')\n",
        "axs[1].set_title('Fully Connected AE')\n",
        "axs[2].imshow(x_cnn_pred, cmap='gray')\n",
        "axs[2].set_title('Convolutional AE')\n",
        "axs[3].imshow(x_sparse_pred, cmap='gray')\n",
        "axs[3].set_title('Sparse AE')\n",
        "axs[4].imshow(x_rnn_pred, cmap='gray')\n",
        "axs[4].set_title('Recurrent AE')\n",
        "axs[5].imshow(x_vae_pred, cmap='gray')\n",
        "axs[5].set_title('Variational AE')\n",
        "plt.show()"
      ],
      "metadata": {
        "colab": {
          "base_uri": "https://localhost:8080/",
          "height": 239
        },
        "id": "SyiO2_wTRCMb",
        "outputId": "e72d59c9-78ee-4d0f-ff30-ca8c691c69fc"
      },
      "execution_count": null,
      "outputs": [
        {
          "output_type": "display_data",
          "data": {
            "text/plain": [
              "<Figure size 1500x300 with 6 Axes>"
            ],
            "image/png": "[encoded data removed]"
          },
          "metadata": {}
        }
      ]
    }
  ]
}