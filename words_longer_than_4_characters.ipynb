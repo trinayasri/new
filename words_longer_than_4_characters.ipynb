{
  "nbformat": 4,
  "nbformat_minor": 0,
  "metadata": {
    "colab": {
      "provenance": [],
      "authorship_tag": "ABX9TyOlpx3C52G2n+ypfDDy/KAv",
      "include_colab_link": true
    },
    "kernelspec": {
      "name": "python3",
      "display_name": "Python 3"
    },
    "language_info": {
      "name": "python"
    }
  },
  "cells": [
    {
      "cell_type": "markdown",
      "metadata": {
        "id": "view-in-github",
        "colab_type": "text"
      },
      "source": [
        "<a href=\"https://colab.research.google.com/github/trinayasri/new/blob/main/words_longer_than_4_characters.ipynb\" target=\"_parent\"><img src=\"https://colab.research.google.com/assets/colab-badge.svg\" alt=\"Open In Colab\"/></a>"
      ]
    },
    {
      "cell_type": "code",
      "execution_count": 1,
      "metadata": {
        "colab": {
          "base_uri": "https://localhost:8080/"
        },
        "id": "SbgRQZJz7iMs",
        "outputId": "3ebf2c11-1b0d-45f4-9ba0-afcd99b9eaa5"
      },
      "outputs": [
        {
          "output_type": "stream",
          "name": "stdout",
          "text": [
            "Words longer than 4 characters:\n",
            "Natural\n",
            "language\n",
            "processing\n",
            "fascinating\n",
            "artificial\n",
            "intelligence\n",
            "deals\n",
            "computers\n",
            "understand\n",
            "generate\n",
            "human\n",
            "language\n"
          ]
        }
      ],
      "source": [
        "text = \"\"\"Natural language processing is a fascinating area of \\\n",
        "          artificial intelligence.\n",
        "          It deals with how computers understand and generate human language.\"\"\"\n",
        "words = text.split()\n",
        "print(\"Words longer than 4 characters:\")\n",
        "for word in words:\n",
        "  clean_word = word.strip('.,!?;:')\n",
        "  if len(clean_word) > 4:\n",
        "    print(clean_word)"
      ]
    }
  ]
}