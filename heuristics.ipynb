{
  "nbformat": 4,
  "nbformat_minor": 0,
  "metadata": {
    "colab": {
      "provenance": [],
      "authorship_tag": "ABX9TyMNQSMM2WsnL8GE1F4ChlJo",
      "include_colab_link": true
    },
    "kernelspec": {
      "name": "python3",
      "display_name": "Python 3"
    },
    "language_info": {
      "name": "python"
    }
  },
  "cells": [
    {
      "cell_type": "markdown",
      "metadata": {
        "id": "view-in-github",
        "colab_type": "text"
      },
      "source": [
        "<a href=\"https://colab.research.google.com/github/trinayasri/new/blob/main/heuristics.ipynb\" target=\"_parent\"><img src=\"https://colab.research.google.com/assets/colab-badge.svg\" alt=\"Open In Colab\"/></a>"
      ]
    },
    {
      "source": [
        "import heapq\n",
        "\n",
        "def a_star_search(graph, costs, start, goal, heuristic):\n",
        "    priority_queue = [[heuristic[start], 0, start, [start]]]  # Wrap the priority in a list\n",
        "    visited = set()\n",
        "    while priority_queue:\n",
        "        f, g, node, path = heapq.heappop(priority_queue)\n",
        "        if node in visited:\n",
        "            continue\n",
        "        visited.add(node)\n",
        "        if node == goal:\n",
        "            print(\"A* optimal path: \" + \"->\".join(path))\n",
        "            return\n",
        "        for neighbor in graph[node]:\n",
        "            new_g = g + costs.get((node, neighbor), float('inf'))  # Handle missing edges\n",
        "            new_f = new_g + heuristic[neighbor]\n",
        "            heapq.heappush(priority_queue, [new_f, new_g, neighbor, path + [neighbor]])  # Wrap the priority in a list\n",
        "\n",
        "costs = {('A', 'B'): 1, ('A', 'C'): 3, ('B', 'D'): 2, ('B', 'E'): 5, ('C', 'F'): 2, ('E', 'F'): 2}\n",
        "graph = {\n",
        "    'A': ['B', 'C'],\n",
        "    'B': ['D', 'E'],\n",
        "    'C': ['F'],\n",
        "    'D': [],\n",
        "    'E': ['F']\n",
        "}\n",
        "heuristic = {'A': 6, 'B': 4, 'C': 4, 'D': 2, 'E': 3, 'F': 1}\n",
        "print(\"A* search:\")\n",
        "a_star_search(graph, costs, 'A', 'F', heuristic)"
      ],
      "cell_type": "code",
      "metadata": {
        "colab": {
          "base_uri": "https://localhost:8080/"
        },
        "id": "utuU1QJZCj2P",
        "outputId": "ab4753f2-71de-4026-d8de-76d7bea2d99e"
      },
      "execution_count": null,
      "outputs": [
        {
          "output_type": "stream",
          "name": "stdout",
          "text": [
            "A* search:\n",
            "A* optimal path: A->C->F\n"
          ]
        }
      ]
    }
  ]
}